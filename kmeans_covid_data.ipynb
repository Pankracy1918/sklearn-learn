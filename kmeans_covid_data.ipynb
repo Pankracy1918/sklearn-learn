{
 "cells": [
  {
   "cell_type": "code",
   "execution_count": 8,
   "metadata": {},
   "outputs": [],
   "source": [
    "import pandas as pd\n",
    "import numpy as np\n",
    "import matplotlib.pyplot as plt\n",
    "from sklearn.cluster import KMeans\n",
    "from sklearn import preprocessing \n"
   ]
  },
  {
   "cell_type": "code",
   "execution_count": 9,
   "metadata": {},
   "outputs": [],
   "source": [
    "\n",
    "data = pd.read_csv('owid-covid-data.csv')\n",
    "\n",
    "# print(len(data))\n",
    "# print(data.head())\n",
    "# print(data.columns)\n",
    "\n",
    "europe = data[data['continent']=='Europe']\n",
    "\n",
    "country = europe['location']\n",
    "\n",
    "\n",
    "european_countries = np.unique(country)\n",
    "\n",
    "male_smokers = europe['male_smokers']\n",
    "female_smokers = europe['female_smokers']\n",
    "cardiovasc_death_rate = europe['cardiovasc_death_rate']\n",
    "mc = europe[[\n",
    "    'male_smokers',\n",
    "'female_smokers',\n",
    "'cardiovasc_death_rate'\n",
    "]]\n",
    "\n",
    "european_smokers = europe[['female_smokers', 'male_smokers']]\n",
    "\n",
    "male_european_smokers = europe['male_smokers'].dropna()\n",
    "\n",
    "female_european_smokers = europe['female_smokers'].dropna()\n",
    "\n",
    "cardiovasc_death_rate = europe['cardiovasc_death_rate'].dropna()\n",
    "\n",
    "mc = mc.dropna()\n",
    "# print(male_european_smokers)\n",
    "# print(female_european_smokers)\n",
    "\n",
    "# plt.scatter(male_european_smokers, female_european_smokers, c='red')\n",
    "# plt.show()\n",
    "\n",
    "# total_population_vac = np.unique(europe['people_vaccinated'])\n",
    "# [len(female_european_smokers),len(total_population_vac)]\n",
    "\n",
    "# plt.scatter(\n",
    "#     mc['cardiovasc_death_rate'], mc['male_smokers']\n",
    "# )\n",
    "# plt.show()\n",
    "\n",
    "\n"
   ]
  },
  {
   "cell_type": "code",
   "execution_count": 10,
   "metadata": {},
   "outputs": [],
   "source": [
    "X = mc.drop(columns=['female_smokers'])\n",
    "X=X\n",
    "mms = preprocessing.MinMaxScaler().fit(X)\n",
    "X = mms.transform(X)\n",
    "\n"
   ]
  },
  {
   "cell_type": "code",
   "execution_count": 11,
   "metadata": {},
   "outputs": [
    {
     "data": {
      "text/plain": [
       "KMeans(max_iter=1, n_clusters=2, random_state=0)"
      ]
     },
     "execution_count": 11,
     "metadata": {},
     "output_type": "execute_result"
    }
   ],
   "source": [
    "kmeans= KMeans(n_clusters=2, random_state=0, max_iter=1)\n",
    "\n",
    "kmeans.fit(X)"
   ]
  },
  {
   "cell_type": "code",
   "execution_count": 12,
   "metadata": {},
   "outputs": [
    {
     "data": {
      "image/png": "[encoded data removed]",
      "text/plain": [
       "<Figure size 432x288 with 1 Axes>"
      ]
     },
     "metadata": {
      "needs_background": "light"
     },
     "output_type": "display_data"
    }
   ],
   "source": [
    "xx = X[kmeans.labels_==0]\n",
    "xx = xx.T\n",
    "plt.scatter(xx[1], xx[0])\n",
    "xx = X[kmeans.labels_==1]\n",
    "xx = xx.T\n",
    "plt.scatter(xx[1], xx[0])\n",
    "plt.xlabel(' cardial diseases')\n",
    "plt.ylabel('smoking males')\n",
    "plt.show()\n"
   ]
  }
 ],
 "metadata": {
  "kernelspec": {
   "display_name": "Python 3.8.8 ('xd')",
   "language": "python",
   "name": "python3"
  },
  "language_info": {
   "codemirror_mode": {
    "name": "ipython",
    "version": 3
   },
   "file_extension": ".py",
   "mimetype": "text/x-python",
   "name": "python",
   "nbconvert_exporter": "python",
   "pygments_lexer": "ipython3",
   "version": "3.8.8"
  },
  "orig_nbformat": 4,
  "vscode": {
   "interpreter": {
    "hash": "dc20f31f6ea7ca21aa28572d794ac85da1e7643c11f463d7fb7d4b8e897d57d8"
   }
  }
 },
 "nbformat": 4,
 "nbformat_minor": 2
}
