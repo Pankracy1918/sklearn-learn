{
 "cells": [
  {
   "cell_type": "code",
   "execution_count": 60,
   "metadata": {},
   "outputs": [],
   "source": [
    "import matplotlib.pyplot as plt\n",
    "import pandas as pd\n",
    "import numpy as np\n",
    "from sklearn.svm import SVC as SVM\n",
    "from sklearn.model_selection import train_test_split\n",
    "from sklearn.ensemble import RandomForestClassifier \n",
    "import seaborn as sn\n",
    "from sklearn.preprocessing import MinMaxScaler\n",
    "from sklearn.preprocessing import Normalizer\n",
    "from sklearn import preprocessing"
   ]
  },
  {
   "cell_type": "code",
   "execution_count": 61,
   "metadata": {},
   "outputs": [
    {
     "name": "stdout",
     "output_type": "stream",
     "text": [
      "<class 'pandas.core.frame.DataFrame'>\n",
      "RangeIndex: 395 entries, 0 to 394\n",
      "Data columns (total 18 columns):\n",
      " #   Column      Non-Null Count  Dtype \n",
      "---  ------      --------------  ----- \n",
      " 0   school      395 non-null    object\n",
      " 1   Name        395 non-null    object\n",
      " 2   sex         395 non-null    object\n",
      " 3   address     395 non-null    object\n",
      " 4   famsize     395 non-null    object\n",
      " 5   Pstatus     395 non-null    object\n",
      " 6   Mjob        395 non-null    object\n",
      " 7   Fjob        395 non-null    object\n",
      " 8   reason      395 non-null    object\n",
      " 9   guardian    395 non-null    object\n",
      " 10  schoolsup   395 non-null    object\n",
      " 11  famsup      395 non-null    object\n",
      " 12  paid        395 non-null    object\n",
      " 13  activities  395 non-null    object\n",
      " 14  nursery     395 non-null    object\n",
      " 15  higher      395 non-null    object\n",
      " 16  internet    395 non-null    object\n",
      " 17  romantic    395 non-null    object\n",
      "dtypes: object(18)\n",
      "memory usage: 55.7+ KB\n",
      "<class 'pandas.core.frame.DataFrame'>\n",
      "RangeIndex: 395 entries, 0 to 394\n",
      "Data columns (total 16 columns):\n",
      " #   Column      Non-Null Count  Dtype\n",
      "---  ------      --------------  -----\n",
      " 0   age         395 non-null    int64\n",
      " 1   Medu        395 non-null    int64\n",
      " 2   Fedu        395 non-null    int64\n",
      " 3   traveltime  395 non-null    int64\n",
      " 4   studytime   395 non-null    int64\n",
      " 5   failures    395 non-null    int64\n",
      " 6   famrel      395 non-null    int64\n",
      " 7   freetime    395 non-null    int64\n",
      " 8   goout       395 non-null    int64\n",
      " 9   Dalc        395 non-null    int64\n",
      " 10  Walc        395 non-null    int64\n",
      " 11  health      395 non-null    int64\n",
      " 12  absences    395 non-null    int64\n",
      " 13  G1          395 non-null    int64\n",
      " 14  G2          395 non-null    int64\n",
      " 15  G3          395 non-null    int64\n",
      "dtypes: int64(16)\n",
      "memory usage: 49.5 KB\n"
     ]
    }
   ],
   "source": [
    "math_data = pd.read_csv('./alcohol_dataset/Maths.csv')\n",
    "port_data = pd.read_csv('./alcohol_dataset/Portuguese.csv')\n",
    "\n",
    "indian_names = pd.read_csv('./alcohol_dataset/Indian_Names.csv')\n",
    "\n",
    "math_data.insert(1,'Name',indian_names['Name'])\n",
    "\n",
    "df = math_data.select_dtypes(exclude=['int64'])\n",
    "math_data = math_data.select_dtypes(exclude=['object'])\n",
    "\n",
    "df.info()\n",
    "math_data.info()\n"
   ]
  },
  {
   "cell_type": "code",
   "execution_count": 62,
   "metadata": {},
   "outputs": [],
   "source": [
    "math_data_target = math_data['G3']\n",
    "\n",
    "math_data = math_data.drop(['G3'], axis=1)"
   ]
  },
  {
   "cell_type": "code",
   "execution_count": 63,
   "metadata": {},
   "outputs": [
    {
     "name": "stdout",
     "output_type": "stream",
     "text": [
      "<class 'pandas.core.frame.DataFrame'>\n",
      "RangeIndex: 395 entries, 0 to 394\n",
      "Data columns (total 17 columns):\n",
      " #   Column      Non-Null Count  Dtype\n",
      "---  ------      --------------  -----\n",
      " 0   school      395 non-null    int64\n",
      " 1   sex         395 non-null    int64\n",
      " 2   address     395 non-null    int64\n",
      " 3   famsize     395 non-null    int64\n",
      " 4   Pstatus     395 non-null    int64\n",
      " 5   Mjob        395 non-null    int64\n",
      " 6   Fjob        395 non-null    int64\n",
      " 7   reason      395 non-null    int64\n",
      " 8   guardian    395 non-null    int64\n",
      " 9   schoolsup   395 non-null    int64\n",
      " 10  famsup      395 non-null    int64\n",
      " 11  paid        395 non-null    int64\n",
      " 12  activities  395 non-null    int64\n",
      " 13  nursery     395 non-null    int64\n",
      " 14  higher      395 non-null    int64\n",
      " 15  internet    395 non-null    int64\n",
      " 16  romantic    395 non-null    int64\n",
      "dtypes: int64(17)\n",
      "memory usage: 52.6 KB\n"
     ]
    }
   ],
   "source": [
    "\n",
    "df = df.drop(['Name'], axis=1)\n",
    "for i in df.columns:\n",
    "    a = np.unique(df[i])\n",
    "    df[i] = df[i].replace(a, list(range(len(a))))\n",
    "# print(df.head)\n",
    "df.info()"
   ]
  },
  {
   "cell_type": "code",
   "execution_count": 64,
   "metadata": {},
   "outputs": [],
   "source": [
    "\n",
    "for i in range(len(df.columns)):\n",
    "    math_data.insert(i+len(df.columns)-4,df.columns[i],df[df.columns[i]].values)\n",
    "\n",
    "# xd = pd.concat(math_data, df)\n"
   ]
  },
  {
   "cell_type": "code",
   "execution_count": 65,
   "metadata": {},
   "outputs": [],
   "source": [
    "# xd = np.array(range(10))\n",
    "# XD = np.array(range(10))/2\n",
    "# scaler = MinMaxScaler().fit(xd)\n",
    "# xd = scaler.transform(xd)\n",
    "# scaler = MinMaxScaler().fit(XD)\n",
    "# XD = scaler.transform(XD)\n",
    "# XD"
   ]
  },
  {
   "cell_type": "code",
   "execution_count": 66,
   "metadata": {},
   "outputs": [
    {
     "name": "stderr",
     "output_type": "stream",
     "text": [
      "c:\\Users\\Krzysztof\\anaconda3\\envs\\xd\\lib\\site-packages\\sklearn\\utils\\validation.py:63: DataConversionWarning: A column-vector y was passed when a 1d array was expected. Please change the shape of y to (n_samples, ), for example using ravel().\n",
      "  return f(*args, **kwargs)\n",
      "c:\\Users\\Krzysztof\\anaconda3\\envs\\xd\\lib\\site-packages\\sklearn\\utils\\validation.py:63: DataConversionWarning: A column-vector y was passed when a 1d array was expected. Please change the shape of y to (n_samples, ), for example using ravel().\n",
      "  return f(*args, **kwargs)\n"
     ]
    }
   ],
   "source": [
    "# mms=MinMaxScaler()\n",
    "# math_data = mms.fit_transform(math_data)\n",
    "# mms=MinMaxScaler()\n",
    "# math_data_target = mms.fit_transform(math_data_target)\n",
    "\n",
    "\n",
    "X_train, X_test, y_train, y_test = train_test_split(math_data, math_data_target, test_size=0.2, random_state=42)\n",
    "\n",
    "\n",
    "\n",
    "\n",
    "\n",
    "# scaler = MinMaxScaler().fit(X_train)\n",
    "# normalized_X = scaler.transform(X_train)\n",
    "# scaler = MinMaxScaler().fit(X_test)\n",
    "# normalized_X_test = scaler.transform(X_test)\n",
    "\n",
    "# normalized_X = np.array(normalized_X)\n",
    "# normalized_X_test = np.array(normalized_X_test)\n",
    "\n",
    "y_train = np.array(y_train)\n",
    "X_train = np.array(X_train)\n",
    "\n",
    "lab = preprocessing.LabelEncoder()\n",
    "scaler = MinMaxScaler().fit(y_train.reshape(-1, 1))\n",
    "y_transformed = lab.fit_transform(y_train.reshape(-1, 1))\n",
    "scaler = MinMaxScaler().fit(X_train.reshape(-1, 1))\n",
    "x_transformed = lab.fit_transform(X_train.reshape(-1, 1))\n",
    "\n",
    "\n",
    "# math_data_target = (math_data_target-math_data_target.min())/(math_data_target.max()-math_data_target.min())\n",
    "\n"
   ]
  },
  {
   "cell_type": "code",
   "execution_count": 89,
   "metadata": {},
   "outputs": [],
   "source": [
    "def svm_list(i):\n",
    "    # c=(100+i*10)/100\n",
    "    c=(50+i*0.01)\n",
    "    svm = SVM(C=c,kernel='rbf')\n",
    "    svm.fit(X_train, y_train)\n",
    "    return svm.score(X_test,y_test)"
   ]
  },
  {
   "cell_type": "code",
   "execution_count": 90,
   "metadata": {},
   "outputs": [
    {
     "data": {
      "text/plain": [
       "(611, 0.45569620253164556)"
      ]
     },
     "execution_count": 90,
     "metadata": {},
     "output_type": "execute_result"
    }
   ],
   "source": [
    "svml = [ svm_list(i) for i in range(1000)]\n",
    "\n",
    "(np.argmax(svml),svml[np.argmax(svml)])"
   ]
  },
  {
   "cell_type": "code",
   "execution_count": 94,
   "metadata": {},
   "outputs": [
    {
     "name": "stdout",
     "output_type": "stream",
     "text": [
      "[0.35443037974683544]\n",
      "[0.3924050632911392]\n",
      "[0.34177215189873417]\n",
      "[0.3924050632911392]\n",
      "[0.4050632911392405]\n",
      "[0.3924050632911392]\n",
      "[0.3924050632911392]\n",
      "[0.4050632911392405]\n",
      "[0.4050632911392405]\n",
      "[0.4177215189873418]\n"
     ]
    }
   ],
   "source": [
    "for i in range(10):\n",
    "    rfc = RandomForestClassifier()\n",
    "    rfc.fit(X_train, y_train)\n",
    "    print([rfc.score(X_test, y_test)])"
   ]
  },
  {
   "cell_type": "code",
   "execution_count": 91,
   "metadata": {},
   "outputs": [
    {
     "data": {
      "image/png": "[encoded data removed]",
      "text/plain": [
       "<Figure size 432x288 with 2 Axes>"
      ]
     },
     "metadata": {
      "needs_background": "light"
     },
     "output_type": "display_data"
    }
   ],
   "source": [
    "mdc = math_data.corr(method='spearman')\n",
    "sn.heatmap(mdc)\n",
    "plt.show()"
   ]
  },
  {
   "cell_type": "code",
   "execution_count": 70,
   "metadata": {},
   "outputs": [
    {
     "data": {
      "text/plain": [
       "[10, 12, 14, 16, 18]"
      ]
     },
     "execution_count": 70,
     "metadata": {},
     "output_type": "execute_result"
    }
   ],
   "source": [
    "[i for i in range(10,20,2)]"
   ]
  },
  {
   "cell_type": "code",
   "execution_count": 92,
   "metadata": {},
   "outputs": [
    {
     "name": "stdout",
     "output_type": "stream",
     "text": [
      "[-0.36235740907605, 'G2', 'failures']\n",
      "[-0.34605156240484386, 'G1', 'failures']\n",
      "[-0.33682484876587193, 'sex', 'studytime']\n",
      "[-0.3106303196400544, 'address', 'traveltime']\n",
      "[-0.2797968784330127, 'address', 'school']\n",
      "[-0.2645465096029045, 'higher', 'failures']\n",
      "[-0.26402115320808883, 'Walc', 'studytime']\n",
      "[-0.26274605645536775, 'schoolsup', 'age']\n",
      "[-0.24237265070891245, 'failures', 'Medu']\n",
      "[-0.23661643604533153, 'failures', 'Fedu']\n"
     ]
    }
   ],
   "source": [
    "mdc_1dim = mdc.values.reshape(-1,1).tolist()\n",
    "for i in range(len(mdc)):\n",
    "    for j in range(len(mdc)):\n",
    "        mdc_1dim[i*len(mdc)+j].append([i,j])\n",
    "mdc_1dim.sort(key = lambda x:x[0])\n",
    "mdc_1dim=mdc_1dim[::-1][32:]\n",
    "mdc_1dim=[mdc_1dim[i] for i in range(0,len(mdc_1dim),2)][::-1]\n",
    "\n",
    "for i in range(10):\n",
    "    print([mdc_1dim[i][0],mdc.columns[mdc_1dim[i][1][0]], mdc.columns[mdc_1dim[i][1][1]]] )\n"
   ]
  },
  {
   "cell_type": "code",
   "execution_count": 93,
   "metadata": {},
   "outputs": [
    {
     "data": {
      "image/png": "[encoded data removed]",
      "text/plain": [
       "<Figure size 432x288 with 1 Axes>"
      ]
     },
     "metadata": {
      "needs_background": "light"
     },
     "output_type": "display_data"
    }
   ],
   "source": [
    "# grid = [for i in range(len(mdc)]\n",
    "plt.imshow(mdc, extent=[15,0, 15, 0])\n",
    "plt.show()"
   ]
  }
 ],
 "metadata": {
  "kernelspec": {
   "display_name": "Python 3.8.8 ('xd')",
   "language": "python",
   "name": "python3"
  },
  "language_info": {
   "codemirror_mode": {
    "name": "ipython",
    "version": 3
   },
   "file_extension": ".py",
   "mimetype": "text/x-python",
   "name": "python",
   "nbconvert_exporter": "python",
   "pygments_lexer": "ipython3",
   "version": "3.8.8"
  },
  "orig_nbformat": 4,
  "vscode": {
   "interpreter": {
    "hash": "dc20f31f6ea7ca21aa28572d794ac85da1e7643c11f463d7fb7d4b8e897d57d8"
   }
  }
 },
 "nbformat": 4,
 "nbformat_minor": 2
}
